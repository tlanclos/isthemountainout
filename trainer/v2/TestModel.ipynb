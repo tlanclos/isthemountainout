{
 "cells": [
  {
   "cell_type": "code",
   "execution_count": 1,
   "metadata": {},
   "outputs": [],
   "source": [
    "%run GpuOptions.ipynb"
   ]
  },
  {
   "cell_type": "code",
   "execution_count": 2,
   "metadata": {},
   "outputs": [
    {
     "name": "stdout",
     "output_type": "stream",
     "text": [
      "(<Label.MYSTICAL: 'Mystical'>, <tf.Tensor: shape=(), dtype=float32, numpy=170.03952>)\n",
      "(<Label.NOT_VISIBLE: 'NotVisible'>, <tf.Tensor: shape=(), dtype=float32, numpy=118.000374>)\n",
      "(<Label.NOT_VISIBLE: 'NotVisible'>, <tf.Tensor: shape=(), dtype=float32, numpy=202.34541>)\n",
      "(<Label.NOT_VISIBLE: 'NotVisible'>, <tf.Tensor: shape=(), dtype=float32, numpy=168.02611>)\n"
     ]
    }
   ],
   "source": [
    "import glob\r\n",
    "from common import frozenmodel\r\n",
    "from common.classifier import Classifier\r\n",
    "from common.image import crop\r\n",
    "from PIL import Image\r\n",
    "\r\n",
    "classifier = Classifier(model=frozenmodel.generate(), labels=frozenmodel.labels())\r\n",
    "\r\n",
    "# TODO: maybe make this build a collage with the classifications\r\n",
    "for (filepath, _) in zip(glob.iglob('*.jpg'), range(4)):\r\n",
    "    image = Image.open(filepath)\r\n",
    "    crop(image, x=832, y=442, width=224, height=224).show()\r\n",
    "    print(classifier.classify(crop(image, x=832, y=442, width=224, height=224)))\r\n"
   ]
  },
  {
   "cell_type": "code",
   "execution_count": null,
   "metadata": {},
   "outputs": [],
   "source": []
  }
 ],
 "metadata": {
  "kernelspec": {
   "display_name": "Python 3.8.5 64-bit ('tf_gpu': conda)",
   "metadata": {
    "interpreter": {
     "hash": "611695c0bd76c6e875083607f81ce0a6f5bca983f3620a36074696f3391eb980"
    }
   },
   "name": "Python 3.8.5 64-bit ('tf_gpu': conda)"
  },
  "language_info": {
   "codemirror_mode": {
    "name": "ipython",
    "version": 3
   },
   "file_extension": ".py",
   "mimetype": "text/x-python",
   "name": "python",
   "nbconvert_exporter": "python",
   "pygments_lexer": "ipython3",
   "version": "3.8.5-final"
  },
  "orig_nbformat": 2
 },
 "nbformat": 4,
 "nbformat_minor": 2
}