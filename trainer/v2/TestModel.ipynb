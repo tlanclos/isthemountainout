{
 "metadata": {
  "language_info": {
   "codemirror_mode": {
    "name": "ipython",
    "version": 3
   },
   "file_extension": ".py",
   "mimetype": "text/x-python",
   "name": "python",
   "nbconvert_exporter": "python",
   "pygments_lexer": "ipython3",
   "version": "3.8.5-final"
  },
  "orig_nbformat": 2,
  "kernelspec": {
   "name": "Python 3.8.5 64-bit ('tf_gpu': conda)",
   "display_name": "Python 3.8.5 64-bit ('tf_gpu': conda)",
   "metadata": {
    "interpreter": {
     "hash": "611695c0bd76c6e875083607f81ce0a6f5bca983f3620a36074696f3391eb980"
    }
   }
  }
 },
 "nbformat": 4,
 "nbformat_minor": 2,
 "cells": [
  {
   "cell_type": "code",
   "execution_count": 1,
   "metadata": {},
   "outputs": [],
   "source": [
    "%run GpuOptions.ipynb"
   ]
  },
  {
   "cell_type": "code",
   "execution_count": 2,
   "metadata": {},
   "outputs": [
    {
     "output_type": "execute_result",
     "data": {
      "text/plain": [
       "('Mystical', 46.33485674858093)"
      ]
     },
     "metadata": {},
     "execution_count": 2
    }
   ],
   "source": [
    "from common import frozenmodel\n",
    "from common.classifier import Classifier\n",
    "from common.image import crop\n",
    "from PIL import Image\n",
    "\n",
    "with open('savelabels.txt', 'r') as f:\n",
    "    labels = sorted([label.strip() for label in f.readlines()])\n",
    "classifier = Classifier(model=frozenmodel.generate(len(labels)), labels=labels)\n",
    "\n",
    "image = Image.open('twitter-image.jpg')\n",
    "crop(image, x=832, y=442, width=224, height=224).show()\n",
    "classifier.classify(crop(image, x=832, y=442, width=224, height=224))\n"
   ]
  },
  {
   "cell_type": "code",
   "execution_count": null,
   "metadata": {},
   "outputs": [],
   "source": []
  }
 ]
}