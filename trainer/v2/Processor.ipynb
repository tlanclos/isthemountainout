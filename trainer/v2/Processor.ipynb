{
 "metadata": {
  "language_info": {
   "codemirror_mode": {
    "name": "ipython",
    "version": 3
   },
   "file_extension": ".py",
   "mimetype": "text/x-python",
   "name": "python",
   "nbconvert_exporter": "python",
   "pygments_lexer": "ipython3",
   "version": "3.8.5-final"
  },
  "orig_nbformat": 2,
  "kernelspec": {
   "name": "Python 3.8.5 64-bit ('tf_gpu': conda)",
   "display_name": "Python 3.8.5 64-bit ('tf_gpu': conda)",
   "metadata": {
    "interpreter": {
     "hash": "611695c0bd76c6e875083607f81ce0a6f5bca983f3620a36074696f3391eb980"
    }
   }
  }
 },
 "nbformat": 4,
 "nbformat_minor": 2,
 "cells": [
  {
   "cell_type": "code",
   "execution_count": 1,
   "metadata": {},
   "outputs": [
    {
     "output_type": "stream",
     "name": "stdout",
     "text": [
      "processed ..\\TrainingData\\Beautiful\\EjmjSHvVgAETqLN.jpg\n",
      "processed ..\\TrainingData\\Beautiful\\ElR8lQ8VgAAVhSS.jpg\n",
      "processed ..\\TrainingData\\Beautiful\\ElsVvOrUcAAjSZO.jpg\n",
      "processed ..\\TrainingData\\Beautiful\\ElxmMldU8AAPkgw.jpg\n",
      "processed ..\\TrainingData\\Mystical\\EjAdngIUwAAjbIz.jpg\n",
      "processed ..\\TrainingData\\Mystical\\EjFnSd-X0AEIfRk.jpg\n",
      "processed ..\\TrainingData\\Mystical\\EjnFm03VoAET7PK.jpg\n",
      "processed ..\\TrainingData\\Mystical\\Ejrl_XlVcAEeepl.jpg\n",
      "processed ..\\TrainingData\\Mystical\\EjsPLUoUcAI0Lju.jpg\n",
      "processed ..\\TrainingData\\Mystical\\EkaepXGWAAE0SkO.jpg\n",
      "processed ..\\TrainingData\\Mystical\\EkYOc3VUcAAw3n1.jpg\n",
      "processed ..\\TrainingData\\Mystical\\EkYVUQkVcAAVYAi.jpg\n",
      "processed ..\\TrainingData\\Mystical\\El07EOWVMAAVKQQ.jpg\n",
      "processed ..\\TrainingData\\Mystical\\ElL8EYaVMAMtoqz.jpg\n",
      "processed ..\\TrainingData\\Mystical\\ElLuWSLVMAAZGKu.jpg\n",
      "processed ..\\TrainingData\\Mystical\\Elqn4GiU8AIliVF.jpg\n",
      "processed ..\\TrainingData\\Mystical\\ElvxdWsU8AIHk_R.jpg\n",
      "processed ..\\TrainingData\\NotVisible\\Ej-lW1QU0AA3h9N.jpg\n",
      "processed ..\\TrainingData\\NotVisible\\Ej00jRkU0AAu17m.jpg\n",
      "processed ..\\TrainingData\\NotVisible\\Ej0LUCCVgAEIgt4.jpg\n",
      "processed ..\\TrainingData\\NotVisible\\Ej0trzuUcAAWNS8.jpg\n",
      "processed ..\\TrainingData\\NotVisible\\Ej5pgVSUYAAd6qf.jpg\n",
      "processed ..\\TrainingData\\NotVisible\\Ej5U59AVoAE-ZcH.jpg\n",
      "processed ..\\TrainingData\\NotVisible\\EjaUf8dUcAAY54_.jpg\n",
      "processed ..\\TrainingData\\NotVisible\\Ejg9N1LU4AAvwb0.jpg\n",
      "processed ..\\TrainingData\\NotVisible\\EjK3vDfVoAASFDG.jpg\n",
      "processed ..\\TrainingData\\NotVisible\\EjknrVZUcAE-435.jpg\n",
      "processed ..\\TrainingData\\NotVisible\\EjpxRbkXkAABPEC.jpg\n",
      "processed ..\\TrainingData\\NotVisible\\EjQBUX6VkAAmw2F.jpg\n",
      "processed ..\\TrainingData\\NotVisible\\EjqF27EU4AEqHS-.jpg\n",
      "processed ..\\TrainingData\\NotVisible\\EjVK5tWUYAIplnA.jpg\n",
      "processed ..\\TrainingData\\NotVisible\\Ek0A2dLVMAEnwvQ.jpg\n",
      "processed ..\\TrainingData\\NotVisible\\Ek0HtziUcAEJ3dd.jpg\n",
      "processed ..\\TrainingData\\NotVisible\\Ek0Ol-kVkAEDVZH.jpg\n",
      "processed ..\\TrainingData\\NotVisible\\Ek3H-yNXYAEpZQd.jpg\n",
      "processed ..\\TrainingData\\NotVisible\\Ek48tl2VgAEMkvX.jpg\n",
      "processed ..\\TrainingData\\NotVisible\\Ek4oG_3UYAAo6Uw.jpg\n",
      "processed ..\\TrainingData\\NotVisible\\Ek4u-r6VMAAUPgl.jpg\n",
      "processed ..\\TrainingData\\NotVisible\\EkAaGHVVoAECzaM.jpg\n",
      "processed ..\\TrainingData\\NotVisible\\EkAg8_6VgAAGrSR.jpg\n",
      "processed ..\\TrainingData\\NotVisible\\Ekde5pjU8AAy0KV.jpg\n",
      "processed ..\\TrainingData\\NotVisible\\EkDoGcKVoAAysXK.jpg\n",
      "processed ..\\TrainingData\\NotVisible\\EkfagIcVcAA855A.jpg\n",
      "processed ..\\TrainingData\\NotVisible\\EkfF6LlVcAI8Qze.jpg\n",
      "processed ..\\TrainingData\\NotVisible\\EkfhYJ4UcAEANs8.jpg\n",
      "processed ..\\TrainingData\\NotVisible\\EkI4i4aU4AEj-4d.jpg\n",
      "processed ..\\TrainingData\\NotVisible\\Ekihnq1VMAAs_wf.jpg\n",
      "processed ..\\TrainingData\\NotVisible\\EknrNpHVcAAlhT3.jpg\n",
      "processed ..\\TrainingData\\NotVisible\\Eko9mTEU8AAnPmA.jpg\n",
      "processed ..\\TrainingData\\NotVisible\\EkOCJHwUYAANVgS.jpg\n",
      "processed ..\\TrainingData\\NotVisible\\EkP9ulTUcAABASY.jpg\n",
      "processed ..\\TrainingData\\NotVisible\\EkTE3TuUcAA9FNS.jpg\n",
      "processed ..\\TrainingData\\NotVisible\\EkUJhosU4AAnGth.jpg\n",
      "processed ..\\TrainingData\\NotVisible\\Ekx-Y2CVoAMaKok.jpg\n",
      "processed ..\\TrainingData\\NotVisible\\El6SYkeU0AM9E7_.jpg\n",
      "processed ..\\TrainingData\\NotVisible\\Elb0TdBUcAAm4aS.jpg\n",
      "processed ..\\TrainingData\\NotVisible\\ElBiBNdVMAAsMRw.jpg\n",
      "processed ..\\TrainingData\\NotVisible\\ElbLGuRU0AAc7w3.jpg\n",
      "processed ..\\TrainingData\\NotVisible\\ElgbkAQVcAEqbKl.jpg\n",
      "processed ..\\TrainingData\\NotVisible\\ElGkv-VU8AUBICt.jpg\n",
      "processed ..\\TrainingData\\NotVisible\\Elh01EPVgAAbWqX.jpg\n",
      "processed ..\\TrainingData\\NotVisible\\Elh7s4VU0AARn6l.jpg\n",
      "processed ..\\TrainingData\\NotVisible\\ElleSvtU0AEmw41.jpg\n",
      "processed ..\\TrainingData\\NotVisible\\ElQ-ybqVMAI-5x7.jpg\n",
      "processed ..\\TrainingData\\NotVisible\\ElWc-sPU8AEkmGg.jpg\n",
      "processed ..\\TrainingData\\NotVisible\\ElWIYNXU8AE1xCD.jpg\n",
      "processed ..\\TrainingData\\NotVisible\\ElWxk85VgAIc39s.jpg\n",
      "processed ..\\TrainingData\\NotVisible\\El_3cTbVMAAQ_Z4.jpg\n",
      "processed ..\\TrainingData\\NotVisible\\El_VHRzVcAAjCj8.jpg\n",
      "processed ..\\TrainingData\\NotVisible\\EmAZyRRVkAA3VRw.jpg\n",
      "processed ..\\TrainingData\\NotVisible\\EmElkMDVkAEtSQp.jpg\n",
      "processed ..\\TrainingData\\NotVisible\\EmF39VjVkAAvMxW.jpg\n"
     ]
    }
   ],
   "source": [
    "import os\n",
    "from common.image import crop\n",
    "from PIL import Image\n",
    "\n",
    "source = os.path.join('..', 'TrainingDataToProcess')\n",
    "destination = os.path.join('..', 'TrainingData')\n",
    "\n",
    "\n",
    "for classification in os.listdir(source):\n",
    "    for filename in os.listdir(os.path.join(source, classification)):\n",
    "        image = Image.open(os.path.join(source, classification, filename))\n",
    "        cropped = crop(image, x=832, y=442, width=224, height=224)\n",
    "        croppedpath = os.path.join(destination, classification, filename)\n",
    "        cropped.save(croppedpath)\n",
    "        print('processed', croppedpath)"
   ]
  },
  {
   "cell_type": "code",
   "execution_count": null,
   "metadata": {},
   "outputs": [],
   "source": []
  }
 ]
}