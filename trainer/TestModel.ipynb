{
 "cells": [
  {
   "cell_type": "code",
   "execution_count": null,
   "metadata": {},
   "outputs": [],
   "source": [
    "%run GpuOptions.ipynb\n",
    "%run BuildTrainingData.ipynb"
   ]
  },
  {
   "cell_type": "code",
   "execution_count": 11,
   "metadata": {},
   "outputs": [],
   "source": [
    "from common import frozenmodel\n",
    "from common.classifier import Classifier\n",
    "\n",
    "# use the best weights so far so that we can test the model as it is being trained\n",
    "model = frozenmodel.generate(weights_filepath='isthemountainout.best.h5')\n",
    "classifier = Classifier(model=model, labels=frozenmodel.labels())"
   ]
  },
  {
   "cell_type": "code",
   "execution_count": 12,
   "metadata": {},
   "outputs": [
    {
     "name": "stdout",
     "output_type": "stream",
     "text": [
      "--------------------------------------------------------\n",
      "Quick Test: Beautiful\n",
      "Classification       Confidence           File Path\n",
      "--------------------------------------------------------\n",
      "Label.MYSTICAL       84.70063805580139    MountRainier_2020-08-02T072000.jpg\n",
      "Label.BEAUTIFUL      64.75191116333008    MountRainier_2020-12-04T155000.jpg\n",
      "Label.MYSTICAL       56.691354513168335   offset_0_1380521001818095621-EyiYiPYVcAMFCYJ.jpg\n",
      "--------------------------------------------------------\n",
      "Quick Test: Mystical\n",
      "Classification       Confidence           File Path\n",
      "--------------------------------------------------------\n",
      "Label.NOT_VISIBLE    56.10477924346924    MountRainier_2020-08-24T194000.jpg\n",
      "Label.MYSTICAL       81.77843689918518    MountRainier_2020-09-06T140000.jpg\n",
      "Label.MYSTICAL       96.72260880470276    MountRainier_2020-08-28T152000.jpg\n",
      "--------------------------------------------------------\n",
      "Quick Test: Night\n",
      "Classification       Confidence           File Path\n",
      "--------------------------------------------------------\n",
      "Label.NIGHT          59.123462438583374   MountRainier_2020-11-15T195000.jpg\n",
      "Label.NIGHT          63.4223997592926     MountRainier_2020-08-21T045000.jpg\n",
      "Label.NIGHT          63.229018449783325   offset_0_MountRainier_2021-04-01T055000.jpg\n",
      "--------------------------------------------------------\n",
      "Quick Test: NotVisible\n",
      "Classification       Confidence           File Path\n",
      "--------------------------------------------------------\n",
      "Label.NOT_VISIBLE    96.78177833557129    MountRainier_2020-08-21T191000.jpg\n",
      "Label.NOT_VISIBLE    99.05091524124146    MountRainier_2020-12-28T105000.jpg\n",
      "Label.NOT_VISIBLE    99.59361553192139    MountRainier_2021-02-19T075000.jpg\n"
     ]
    }
   ],
   "source": [
    "import glob\n",
    "import os\n",
    "import random\n",
    "from PIL import Image\n",
    "\n",
    "for classname in os.listdir('TrainingData'):\n",
    "    print('--------------------------------------------------------')\n",
    "    print('Quick Test: {classname}'.format(classname=classname))\n",
    "    print('{classification:<20} {confidence:<20} {filepath}'.format(\n",
    "        classification='Classification',\n",
    "        confidence='Confidence',\n",
    "        filepath='File Path'))\n",
    "    print('--------------------------------------------------------')\n",
    "    for filepath in random.choices(list(glob.iglob(f'TrainingData/{classname}/*.jpg')), k=3):\n",
    "        image = Image.open(filepath)\n",
    "        classification, confidence = classifier.classify(image)\n",
    "        print('{classification:<20} {confidence:<20} {filepath}'.format(\n",
    "            classification=classification,\n",
    "            confidence=confidence,\n",
    "            filepath=os.path.basename(filepath)))\n"
   ]
  },
  {
   "cell_type": "code",
   "execution_count": null,
   "metadata": {},
   "outputs": [
    {
     "name": "stdout",
     "output_type": "stream",
     "text": [
      "Found 8367 images belonging to 4 classes.\n"
     ]
    }
   ],
   "source": [
    "import numpy as np\n",
    "import sklearn.metrics\n",
    "import itertools\n",
    "from matplotlib import pyplot as plt\n",
    "\n",
    "datagen = tf.keras.preprocessing.image.ImageDataGenerator(rescale=1.0 / 255)\\\n",
    "                .flow_from_directory(data_directory, batch_size=4096, shuffle=True, target_size=image_size)\n",
    "\n",
    "class_names = list(datagen.class_indices.keys())\n",
    "data, labels = datagen.next()\n",
    "test_pred_raw = model.predict(data)\n",
    "test_pred = np.argmax(test_pred_raw, axis=1)\n",
    "test_label = np.argmax(labels, axis=1)\n",
    "\n",
    "def plot_confusion_matrix(cm, *, class_names):\n",
    "    \"\"\"\n",
    "    Returns a matplotlib figure containing the plotted confusion matrix.\n",
    "    \"\"\"\n",
    "    figure = plt.figure(figsize=(8, 8))\n",
    "    plt.imshow(cm, interpolation='nearest', cmap=plt.cm.Blues)\n",
    "    plt.title(\"Confusion matrix\")\n",
    "    plt.colorbar()\n",
    "    tick_marks = np.arange(len(class_names))\n",
    "    plt.xticks(tick_marks, class_names, rotation=45)\n",
    "    plt.yticks(tick_marks, class_names)\n",
    "\n",
    "    # Normalize the confusion matrix.\n",
    "    cm = np.around(cm.astype('float') / cm.sum(axis=1)[:, np.newaxis], decimals=2)\n",
    "\n",
    "    # Use white text if squares are dark; otherwise black.\n",
    "    threshold = cm.max() / 2.\n",
    "    for i, j in itertools.product(range(cm.shape[0]), range(cm.shape[1])):\n",
    "       color = \"white\" if cm[i, j] > threshold else \"black\"\n",
    "       plt.text(j, i, cm[i, j], horizontalalignment=\"center\", color=color)\n",
    "    plt.tight_layout()\n",
    "    plt.subplots_adjust(left=0.125, right=0.9, bottom=0.1, top=0.9, wspace=0.2, hspace=0.2)\n",
    "    plt.ylabel('True label')\n",
    "    plt.xlabel('Predicted label')\n",
    "\n",
    "cm = sklearn.metrics.confusion_matrix(test_label, test_pred)\n",
    "plot_confusion_matrix(cm, class_names=class_names)"
   ]
  },
  {
   "cell_type": "code",
   "execution_count": null,
   "metadata": {},
   "outputs": [],
   "source": []
  }
 ],
 "metadata": {
  "kernelspec": {
   "display_name": "Python 3",
   "language": "python",
   "name": "python3"
  },
  "language_info": {
   "codemirror_mode": {
    "name": "ipython",
    "version": 3
   },
   "file_extension": ".py",
   "mimetype": "text/x-python",
   "name": "python",
   "nbconvert_exporter": "python",
   "pygments_lexer": "ipython3",
   "version": "3.8.10"
  }
 },
 "nbformat": 4,
 "nbformat_minor": 2
}
