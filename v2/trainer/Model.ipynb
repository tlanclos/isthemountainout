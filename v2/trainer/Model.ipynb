{
 "cells": [
  {
   "cell_type": "code",
   "execution_count": 2,
   "metadata": {},
   "outputs": [],
   "source": [
    "%run setup/GpuOptions.ipynb"
   ]
  }
 ],
 "metadata": {
  "interpreter": {
   "hash": "279f80f3e93a0bfbe78bae652595c4f50e528363c0828a41d98068b64ec71a74"
  },
  "kernelspec": {
   "display_name": "Python 3.8.10 ('tf_gpu')",
   "language": "python",
   "name": "python3"
  },
  "language_info": {
   "codemirror_mode": {
    "name": "ipython",
    "version": 3
   },
   "file_extension": ".py",
   "mimetype": "text/x-python",
   "name": "python",
   "nbconvert_exporter": "python",
   "pygments_lexer": "ipython3",
   "version": "3.8.10"
  },
  "orig_nbformat": 4
 },
 "nbformat": 4,
 "nbformat_minor": 2
}
